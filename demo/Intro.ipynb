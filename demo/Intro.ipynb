{
 "cells": [
  {
   "cell_type": "markdown",
   "metadata": {},
   "source": [
    "# DOCLUSTER\n",
    "\n",
    "Welcome to Docluster! These days millions of documents are floating around the internet. Document clustering provides two main benefits:\n",
    "\n",
    "1) Gives us insight into the data in our documents.\n",
    "2) Can be great for recomender problems. (ex: give me a document same topic as the one I just read)\n",
    "\n",
    "The purpose of Docluster is showcase the tools and algorithms used in clustering text documents. In the process, I will be going over the algorithms in high level. However, this project is certainly not the best place to learn about clustering or natural language techniques. I will be citing some resources that are great at teaching these techniques topics. \n",
    "\n",
    "We will be using Python 3 throughout the project and will utlize some existing libraries such as numpy, pandas, matplotlib and nltk. So if you want to run the demos or type the code as we go, you can install all of these libraries with [Anaconda](https://www.continuum.io/downloads). If you are not familiar with numpy, I suggest going over [Python Course's numpy tutorial](http://www.python-course.eu/numpy.php). Other libraries are easier to reason on the fly.\n",
    "\n",
    "I chose to cluster Turkish resume and job descriptions, but same concepts apply to English and other languages. Along the way, I will be mentioning suggestions for other language integration. It is important to note that the style, language, and length of the clustered data are essential factors that should be given serious thought of. The algorithms we will go through will have many parameters that give us felexiblity to adapt our existing code to these tipping points.\n",
    "\n",
    "I hope you enjoy Docluster! Conitunue with <a href=\"files/preprocessing.ipynb\">Preprocessing</a>."
   ]
  }
 ],
 "metadata": {
  "kernelspec": {
   "display_name": "Python 2",
   "language": "python",
   "name": "python2"
  },
  "language_info": {
   "codemirror_mode": {
    "name": "ipython",
    "version": 2
   },
   "file_extension": ".py",
   "mimetype": "text/x-python",
   "name": "python",
   "nbconvert_exporter": "python",
   "pygments_lexer": "ipython2",
   "version": "2.7.10"
  }
 },
 "nbformat": 4,
 "nbformat_minor": 2
}
